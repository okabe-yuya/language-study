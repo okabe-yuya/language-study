{
 "cells": [
  {
   "cell_type": "code",
   "execution_count": 2,
   "metadata": {},
   "outputs": [],
   "source": [
    "import json\n",
    "\n",
    "request = {'subject': 'phone', 'progress': 21, 'modify': False, 'user_input': 'skip', 'faceID': 'f4:0f:24:2a:1b:3f', 'NAME': 'd', 'NMBUKA': '犬山', 'offset': 0, 'limit': 4}\n",
    "request = json.dumps(request)\n"
   ]
  },
  {
   "cell_type": "code",
   "execution_count": 4,
   "metadata": {},
   "outputs": [
    {
     "data": {
      "text/plain": [
       "'{\"subject\": \"phone\", \"progress\": 21, \"modify\": false, \"user_input\": \"skip\", \"faceID\": \"f4:0f:24:2a:1b:3f\", \"NAME\": \"d\", \"NMBUKA\": \"\\\\u72ac\\\\u5c71\", \"offset\": 0, \"limit\": 4}'"
      ]
     },
     "execution_count": 4,
     "metadata": {},
     "output_type": "execute_result"
    }
   ],
   "source": [
    "request"
   ]
  },
  {
   "cell_type": "code",
   "execution_count": 5,
   "metadata": {},
   "outputs": [],
   "source": [
    "test = {\"subject\": \"phone\", \"progress\": 21, \"modify\": False, \"user_input\": \"skip\", \"faceID\": \"f4:0f:24:2a:1b:3f\", \"NAME\": \"d\", \"NMBUKA\": \"犬山\", \"offset\": 0, \"limit\": 4}\n",
    "test = json.dumps(test)"
   ]
  },
  {
   "cell_type": "code",
   "execution_count": 6,
   "metadata": {},
   "outputs": [
    {
     "data": {
      "text/plain": [
       "'{\"subject\": \"phone\", \"progress\": 21, \"modify\": false, \"user_input\": \"skip\", \"faceID\": \"f4:0f:24:2a:1b:3f\", \"NAME\": \"d\", \"NMBUKA\": \"\\\\u72ac\\\\u5c71\", \"offset\": 0, \"limit\": 4}'"
      ]
     },
     "execution_count": 6,
     "metadata": {},
     "output_type": "execute_result"
    }
   ],
   "source": [
    "test"
   ]
  },
  {
   "cell_type": "code",
   "execution_count": null,
   "metadata": {},
   "outputs": [],
   "source": []
  }
 ],
 "metadata": {
  "kernelspec": {
   "display_name": "Python 3",
   "language": "python",
   "name": "python3"
  },
  "language_info": {
   "codemirror_mode": {
    "name": "ipython",
    "version": 3
   },
   "file_extension": ".py",
   "mimetype": "text/x-python",
   "name": "python",
   "nbconvert_exporter": "python",
   "pygments_lexer": "ipython3",
   "version": "3.6.6"
  }
 },
 "nbformat": 4,
 "nbformat_minor": 2
}

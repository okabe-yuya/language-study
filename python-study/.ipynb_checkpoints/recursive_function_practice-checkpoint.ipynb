{
 "cells": [
  {
   "cell_type": "code",
   "execution_count": 65,
   "metadata": {},
   "outputs": [],
   "source": [
    "num_ary = [1,2,3,4,5,6,7,8,9,10]"
   ]
  },
  {
   "cell_type": "code",
   "execution_count": 66,
   "metadata": {},
   "outputs": [
    {
     "name": "stdout",
     "output_type": "stream",
     "text": [
      "55\n",
      "55\n"
     ]
    }
   ],
   "source": [
    "## 配列の数値合計\n",
    "\n",
    "##　再帰関数\n",
    "def re_sum(num_ary):\n",
    "    if len(num_ary)==0:\n",
    "        return 0\n",
    "    else:\n",
    "        return num_ary[len(num_ary) -1] + sum(num_ary[:-1])\n",
    "        return num_ary[0] + sum(num_ary.pop(0))\n",
    "\n",
    "## 普通に\n",
    "def for_sum(num_ary):\n",
    "    count = 0\n",
    "    for num in num_ary:\n",
    "        count += num\n",
    "    return count\n",
    "\n",
    "print(re_sum(num_ary))\n",
    "print(for_sum(num_ary))"
   ]
  },
  {
   "cell_type": "code",
   "execution_count": 60,
   "metadata": {},
   "outputs": [
    {
     "data": {
      "text/plain": [
       "'12345678910'"
      ]
     },
     "execution_count": 60,
     "metadata": {},
     "output_type": "execute_result"
    }
   ],
   "source": [
    "number_ary = [1,2,3,4,5,6,7,8,9,10]\n",
    "\n",
    "def re_format(num_ary):\n",
    "    if len(num_ary)==0:\n",
    "        return ''\n",
    "    else:\n",
    "        tar_num = num_ary[0]\n",
    "        num_ary.remove(tar_num)\n",
    "        print(num_ary)\n",
    "        return str(tar_num) + re_format(num_ary)\n",
    "\n",
    "    \n",
    "def for_format(num_ary):\n",
    "    format_str = \"\"\n",
    "    for num in num_ary:\n",
    "        format_str += str(num)\n",
    "    return format_str"
   ]
  },
  {
   "cell_type": "code",
   "execution_count": 53,
   "metadata": {},
   "outputs": [
    {
     "name": "stdout",
     "output_type": "stream",
     "text": [
      "None\n"
     ]
    }
   ],
   "source": [
    "const = [1,2,3,1]\n",
    "aaa = const.remove(1)"
   ]
  },
  {
   "cell_type": "code",
   "execution_count": 81,
   "metadata": {},
   "outputs": [],
   "source": [
    "#map　func\n",
    "def re_map(array, func):\n",
    "    if len(array)==0:\n",
    "        return []\n",
    "    else:\n",
    "        return [func(array[0])] + re_map(array.remove(array[0]), func)\n",
    "\n",
    "def add(num):\n",
    "    return num + 1\n",
    "array = [1,2,3]\n",
    "print(re_map(array,))"
   ]
  }
 ],
 "metadata": {
  "kernelspec": {
   "display_name": "Python 3",
   "language": "python",
   "name": "python3"
  },
  "language_info": {
   "codemirror_mode": {
    "name": "ipython",
    "version": 3
   },
   "file_extension": ".py",
   "mimetype": "text/x-python",
   "name": "python",
   "nbconvert_exporter": "python",
   "pygments_lexer": "ipython3",
   "version": "3.6.6"
  }
 },
 "nbformat": 4,
 "nbformat_minor": 2
}

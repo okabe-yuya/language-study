{
 "cells": [
  {
   "cell_type": "code",
   "execution_count": 3,
   "metadata": {},
   "outputs": [
    {
     "data": {
      "text/plain": [
       "['multi_thread_and_process.ipynb',\n",
       " 'Untitled.ipynb',\n",
       " 'phone.csv',\n",
       " 'multi_process_gcd.py',\n",
       " '.ipynb_checkpoints',\n",
       " '.git']"
      ]
     },
     "execution_count": 3,
     "metadata": {},
     "output_type": "execute_result"
    }
   ],
   "source": [
    "import csv\n",
    "import os\n",
    "\n",
    "os.listdir()"
   ]
  },
  {
   "cell_type": "code",
   "execution_count": 21,
   "metadata": {},
   "outputs": [
    {
     "name": "stdout",
     "output_type": "stream",
     "text": [
      "REFERENCE\n",
      "\n",
      "\n",
      "\n",
      "\n",
      "\n",
      "\n",
      "\n",
      "JIGBU\n",
      "\n",
      "\n",
      "\n",
      "JIGBU\n",
      "\n",
      "JIGBU, NAME\n",
      "\n",
      "JIGBU, NAME\n",
      "\n",
      "JIGBU, NAME, NMBUKA\n",
      "\n",
      "\n",
      "\n",
      "JIGBU\n",
      "\n",
      "JIGBU, NMBUKA\n",
      "\n",
      "JIGBU, NMBUKA\n",
      "\n",
      "JIGBU, NAME, NMBUKA\n",
      "\n",
      "\n",
      "\n",
      "\n",
      "\n",
      "NAME\n",
      "\n",
      "NAME\n",
      "\n",
      "NAME, NMBUKA\n",
      "\n",
      "NAME, NMBUKA\n",
      "\n",
      "JIGBU, NAME, NMBUKA\n",
      "\n",
      "\n",
      "\n",
      "\n",
      "\n",
      "NMBUKA\n",
      "\n",
      "NMBUKA\n",
      "\n",
      "NMBUKA, NAME\n",
      "\n",
      "NMBUKA, NAME\n",
      "\n",
      "JIGBU, NAME, NMBUKA\n",
      "\n",
      "\n",
      "\n",
      "JIGBU, NMBUKA, NAME\n",
      "\n"
     ]
    }
   ],
   "source": [
    "with open(\"./phone.csv\", \"r\") as csv_file:\n",
    "    f = csv.reader(csv_file)\n",
    "    target_column = \"reference\"\n",
    "    for num, row in  enumerate(f):\n",
    "        if num == 0:\n",
    "            column_num = row.index(target_column)\n",
    "        target_str = row[column_num]\n",
    "        up_str = target_str.upper()\n",
    "        print(up_str)\n",
    "        print()"
   ]
  },
  {
   "cell_type": "code",
   "execution_count": 32,
   "metadata": {},
   "outputs": [],
   "source": [
    "import csv\n",
    "import sys\n",
    "\n",
    "args = sys.argv\n",
    "target_csv = args[1]\n",
    "UPPER_COLUMN = [\"reference\", \"store_keys\", \"ext_require\"]\n",
    "RELATION_COLUMN_NUM = []\n",
    "\n",
    "with open(\"./new_{}\".format(target_csv), \"w\") as base_csv_file:\n",
    "    writer = csv.writer(base_csv_file, lineterminator='\\n')\n",
    "    with open(\"./{}\".format{target_csv, \"r\") as csv_file:\n",
    "        f = csv.reader(csv_file)\n",
    "        for num, row in  enumerate(f):\n",
    "            if num == 0:\n",
    "                for column in UPPER_COLUMN:\n",
    "                    column_num = row.index(column)\n",
    "                    RELATION_COLUMN_NUM.append(column_num)\n",
    "            else:\n",
    "                for relation_num in RELATION_COLUMN_NUM:\n",
    "                    row[relation_num] = row[relation_num].upper()\n",
    "            writer.writerow(row)"
   ]
  },
  {
   "cell_type": "code",
   "execution_count": 26,
   "metadata": {},
   "outputs": [
    {
     "data": {
      "text/plain": [
       "'{NMBUKA}'"
      ]
     },
     "execution_count": 26,
     "metadata": {},
     "output_type": "execute_result"
    }
   ],
   "source": [
    "\"{nmbuka}\".upper()"
   ]
  },
  {
   "cell_type": "code",
   "execution_count": 27,
   "metadata": {},
   "outputs": [
    {
     "data": {
      "text/plain": [
       "'こんにちは{NUBUKA}さん'"
      ]
     },
     "execution_count": 27,
     "metadata": {},
     "output_type": "execute_result"
    }
   ],
   "source": [
    "\"こんにちは{nuBuka}さん\".upper()"
   ]
  }
 ],
 "metadata": {
  "kernelspec": {
   "display_name": "Python 3",
   "language": "python",
   "name": "python3"
  },
  "language_info": {
   "codemirror_mode": {
    "name": "ipython",
    "version": 3
   },
   "file_extension": ".py",
   "mimetype": "text/x-python",
   "name": "python",
   "nbconvert_exporter": "python",
   "pygments_lexer": "ipython3",
   "version": "3.6.6"
  }
 },
 "nbformat": 4,
 "nbformat_minor": 2
}

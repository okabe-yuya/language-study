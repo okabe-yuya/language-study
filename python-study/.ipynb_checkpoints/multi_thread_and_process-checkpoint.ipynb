{
 "cells": [
  {
   "cell_type": "code",
   "execution_count": 9,
   "metadata": {},
   "outputs": [
    {
     "name": "stdout",
     "output_type": "stream",
     "text": [
      "Collecting ThreadPoolExecutor\n",
      "\u001b[31m  Could not find a version that satisfies the requirement ThreadPoolExecutor (from versions: )\u001b[0m\n",
      "\u001b[31mNo matching distribution found for ThreadPoolExecutor\u001b[0m\n",
      "\u001b[33mYou are using pip version 10.0.1, however version 18.1 is available.\n",
      "You should consider upgrading via the 'pip install --upgrade pip' command.\u001b[0m\n"
     ]
    }
   ],
   "source": [
    "!pip install ThreadPoolExecutor"
   ]
  },
  {
   "cell_type": "code",
   "execution_count": 10,
   "metadata": {},
   "outputs": [],
   "source": [
    "import time, datetime\n",
    "from concurrent.futures import ThreadPoolExecutor"
   ]
  },
  {
   "cell_type": "code",
   "execution_count": 12,
   "metadata": {},
   "outputs": [
    {
     "name": "stdout",
     "output_type": "stream",
     "text": [
      "number:  1\n",
      "number:  2\n",
      "number:  3\n",
      "number:  4\n",
      "number:  5\n",
      "#1 start: 2019-01-20 00:07:24.216885 2.004017\n",
      "#2 start: 2019-01-20 00:07:24.218646 2.003416\n",
      "#3 start: 2019-01-20 00:07:26.220971 2.000912\n",
      "#4 start: 2019-01-20 00:07:26.222097 2.005462\n",
      "#5 start: 2019-01-20 00:07:28.221938 2.004692\n"
     ]
    }
   ],
   "source": [
    "\"\"\"\n",
    "use multi thread\n",
    "\"\"\"\n",
    "\n",
    "def task(num):\n",
    "    start = datetime.datetime.now() #開始時間を記録する\n",
    "    time.sleep(2)\n",
    "    print('number: ', num)\n",
    "    return (num, start, datetime.datetime.now())\n",
    "\n",
    "with ThreadPoolExecutor(2) as e:\n",
    "    ret = e.map(task, [1, 2, 3, 4, 5])\n",
    "    \n",
    "for (num, start, end) in ret:\n",
    "    print(f'#{num} start: {start} {(end -start).total_seconds()}')"
   ]
  },
  {
   "cell_type": "code",
   "execution_count": 22,
   "metadata": {},
   "outputs": [
    {
     "name": "stdout",
     "output_type": "stream",
     "text": [
      "1 thread: 11.635 sec\n",
      "2 thread: 10.395 sec\n",
      "3 thread: 10.415 sec\n",
      "4 thread: 10.544 sec\n"
     ]
    }
   ],
   "source": [
    "\"\"\"\n",
    "use multithread and change total thread number(sub thread)\n",
    "but not change total sec......(>p<)\n",
    "\"\"\"\n",
    "\n",
    "def primes(maxvalue):\n",
    "    ret = []\n",
    "    for v in range(2, maxvalue+1):\n",
    "        for p in ret:\n",
    "            if v % p == 0:\n",
    "                break\n",
    "        else:\n",
    "            ret.append(v)\n",
    "    return ret\n",
    "\n",
    "for numthread in range(1, 5):\n",
    "    f = time.time()\n",
    "    with ThreadPoolExecutor(numthread) as e:\n",
    "        e.map(primes, [50000]*10)\n",
    "    print(f'{numthread} thread: {time.time()-f:.3f} sec')"
   ]
  },
  {
   "cell_type": "code",
   "execution_count": 38,
   "metadata": {},
   "outputs": [
    {
     "name": "stdout",
     "output_type": "stream",
     "text": [
      "1 thread: 10.207 sec\n",
      "2 thread: 13.059 sec\n",
      "3 thread: 11.069 sec\n",
      "4 thread: 10.992 sec\n"
     ]
    }
   ],
   "source": [
    "\"\"\"\n",
    "use Global Interpreter Lock(GIL)\n",
    "how to change total sec ???\n",
    "\"\"\"\n",
    "import os\n",
    "import numpy as np\n",
    "\n",
    "def not_python_structure():\n",
    "    array = np.array([1, 2, 3])\n",
    "    return array\n",
    "\n",
    "def add_func_primes(maxvalue):\n",
    "    ret = []\n",
    "    for v in range(2, maxvalue+1):\n",
    "        for p in ret:\n",
    "            if v % p == 0:\n",
    "                break\n",
    "        else:\n",
    "            ret.append(v)\n",
    "    not_python_structure()\n",
    "    return ret\n",
    "\n",
    "for numthread in range(1, 5):\n",
    "    f = time.time()\n",
    "    with ThreadPoolExecutor(numthread) as e:\n",
    "        e.map(add_func_primes, [50000]*10)\n",
    "    print(f'{numthread} thread: {time.time()-f:.3f} sec')"
   ]
  },
  {
   "cell_type": "code",
   "execution_count": 35,
   "metadata": {},
   "outputs": [],
   "source": [
    "import time, datetime\n",
    "from concurrent.futures import ProcessPoolExecutor"
   ]
  },
  {
   "cell_type": "code",
   "execution_count": 37,
   "metadata": {},
   "outputs": [
    {
     "name": "stdout",
     "output_type": "stream",
     "text": [
      "number:  1\n",
      "number:  2\n",
      "number:  3\n",
      "number:  4\n",
      "number:  5\n",
      "#1 start: 2019-01-20 00:42:23.621201 2.007612\n",
      "#2 start: 2019-01-20 00:42:23.621545 2.008079\n",
      "#3 start: 2019-01-20 00:42:25.629789 2.003745\n",
      "#4 start: 2019-01-20 00:42:25.630567 2.004334\n",
      "#5 start: 2019-01-20 00:42:27.634143 2.002187\n"
     ]
    }
   ],
   "source": [
    "\"\"\"\n",
    "use multi process\n",
    "\"\"\"\n",
    "\n",
    "def task(num):\n",
    "    start = datetime.datetime.now() #開始時間を記録する\n",
    "    time.sleep(2)\n",
    "    print('number: ', num)\n",
    "    return (num, start, datetime.datetime.now())\n",
    "\n",
    "with ProcessPoolExecutor(2) as e:\n",
    "    ret = e.map(task, [1, 2, 3, 4, 5])\n",
    "    \n",
    "for (num, start, end) in ret:\n",
    "    print(f'#{num} start: {start} {(end -start).total_seconds()}')"
   ]
  },
  {
   "cell_type": "code",
   "execution_count": 40,
   "metadata": {},
   "outputs": [
    {
     "name": "stdout",
     "output_type": "stream",
     "text": [
      "1 thread: 9.995 sec\n",
      "2 thread: 6.014 sec\n",
      "3 thread: 6.648 sec\n",
      "4 thread: 5.994 sec\n",
      "5 thread: 5.904 sec\n",
      "6 thread: 6.761 sec\n",
      "7 thread: 8.735 sec\n",
      "8 thread: 5.546 sec\n"
     ]
    }
   ],
   "source": [
    "\"\"\"\n",
    "use multiprocess and change total process number(sub process)\n",
    "\"\"\"\n",
    "for numprocess in range(1, 9):\n",
    "    f = time.time()\n",
    "    with ProcessPoolExecutor(numprocess) as e:\n",
    "        e.map(primes, [50000]*10)\n",
    "    print(f'{numprocess} thread: {time.time()-f:.3f} sec')"
   ]
  },
  {
   "cell_type": "code",
   "execution_count": 42,
   "metadata": {},
   "outputs": [
    {
     "name": "stdout",
     "output_type": "stream",
     "text": [
      "ProcessPoolExecutor:  1.1476168632507324\n",
      "ThreadPoolExecutor:  0.01529073715209961\n"
     ]
    }
   ],
   "source": [
    "\"\"\"\n",
    "compare multithread vs multiprocess\n",
    "1. use data argument\n",
    "\n",
    "=> multi thread:    [  multithread  ]  \n",
    "        no need to exchange data each other\n",
    "        \n",
    "=> multi process   [ multiprocess p1]  [ multiprocess p2] \n",
    "        need to exchange data each other, so speed is lower than multi thread \n",
    "\"\"\"\n",
    "import time, datetime\n",
    "from concurrent.futures import ThreadPoolExecutor\n",
    "from concurrent.futures import ProcessPoolExecutor\n",
    "\n",
    "def copy(param):\n",
    "    return param\n",
    "\n",
    "class Param:\n",
    "    def __init__(self, v):\n",
    "        self.v = v\n",
    "\n",
    "values = [Param(i) for i in range(100000)]\n",
    "\n",
    "with ProcessPoolExecutor() as e:\n",
    "    f = time.time()\n",
    "    ret = e.submit(copy, values).result()\n",
    "    print('ProcessPoolExecutor: ', time.time()-f)\n",
    "    \n",
    "with ThreadPoolExecutor() as e:\n",
    "    f = time.time()\n",
    "    ret = e.submit(copy, values).result()\n",
    "    print('ThreadPoolExecutor: ', time.time()-f)"
   ]
  },
  {
   "cell_type": "code",
   "execution_count": 65,
   "metadata": {},
   "outputs": [
    {
     "name": "stdout",
     "output_type": "stream",
     "text": [
      "1 thread: 0.056 sec\n",
      "2 thread: 0.045 sec\n",
      "3 thread: 0.048 sec\n",
      "4 thread: 0.044 sec\n",
      "5 thread: 0.141 sec\n",
      "6 thread: 0.053 sec\n",
      "7 thread: 0.033 sec\n",
      "8 thread: 0.034 sec\n",
      "9 thread: 0.027 sec\n",
      "10 thread: 0.028 sec\n",
      "11 thread: 0.042 sec\n",
      "12 thread: 0.038 sec\n",
      "13 thread: 0.029 sec\n",
      "14 thread: 0.042 sec\n",
      "15 thread: 0.028 sec\n",
      "16 thread: 0.029 sec\n",
      "17 thread: 0.041 sec\n",
      "18 thread: 0.054 sec\n",
      "19 thread: 0.040 sec\n",
      "20 thread: 0.076 sec\n",
      "21 thread: 0.034 sec\n",
      "22 thread: 0.047 sec\n",
      "23 thread: 0.040 sec\n",
      "24 thread: 0.027 sec\n",
      "25 thread: 0.027 sec\n",
      "26 thread: 0.037 sec\n",
      "27 thread: 0.031 sec\n",
      "28 thread: 0.040 sec\n",
      "29 thread: 0.052 sec\n"
     ]
    },
    {
     "data": {
      "text/plain": [
       "[<matplotlib.lines.Line2D at 0x1141e89e8>]"
      ]
     },
     "execution_count": 65,
     "metadata": {},
     "output_type": "execute_result"
    },
    {
     "data": {
      "image/png": "[encoded data removed]",
      "text/plain": [
       "<Figure size 432x288 with 1 Axes>"
      ]
     },
     "metadata": {
      "needs_background": "light"
     },
     "output_type": "display_data"
    }
   ],
   "source": [
    "\"\"\"\n",
    "Parallelization for numpy\n",
    "\"\"\"\n",
    "import  numpy as np\n",
    "import matplotlib.pyplot as plt\n",
    "%matplotlib inline\n",
    "\n",
    "USE_PROCESS_OR_THREAD_KEY = False # True -> process, False -> Thread\n",
    "time_list = []\n",
    "ARGMENT_SIZE= 100\n",
    "MAX_SIZE = 30\n",
    "lhs = [np.random.rand(ARGMENT_SIZE, ARGMENT_SIZE) for _ in range(500)]\n",
    "rhs = [np.random.rand(ARGMENT_SIZE, ARGMENT_SIZE) for _ in range(500)]\n",
    "\n",
    "def add(arg):\n",
    "    return arg[0] + arg[1]\n",
    "\n",
    "if USE_PROCESS_OR_THREAD_KEY:\n",
    "    for numpool in range(1, MAX_SIZE):\n",
    "        f = time.time()\n",
    "        with ProcessPoolExecutor(numpool) as e:\n",
    "            list(e.map(add, zip(lhs, rhs)))\n",
    "            time_list.append(time.time()-f)\n",
    "        print(f'{numpool} thread: {time.time()-f:.3f} sec')\n",
    "else:\n",
    "    for numthread in range(1, MAX_SIZE):\n",
    "        f = time.time()\n",
    "        with ThreadPoolExecutor(numpool) as e:\n",
    "            list(e.map(add, zip(lhs, rhs)))\n",
    "            time_list.append(time.time()-f)\n",
    "        print(f'{numthread} thread: {time.time()-f:.3f} sec')\n",
    "\n",
    "plt.plot([i + 1 for i in range(MAX_SIZE -1)], time_list) #x -> num, y -> sec"
   ]
  },
  {
   "cell_type": "code",
   "execution_count": 42,
   "metadata": {},
   "outputs": [
    {
     "name": "stdout",
     "output_type": "stream",
     "text": [
      "process_num: 1, total_time: 0.0077228546142578125\n",
      "process_num: 2, total_time: 0.01568889617919922\n",
      "process_num: 3, total_time: 0.019849300384521484\n",
      "process_num: 4, total_time: 0.02770090103149414\n",
      "process_num: 5, total_time: 0.06116890907287598\n",
      "process_num: 6, total_time: 0.04284310340881348\n",
      "process_num: 7, total_time: 0.08746600151062012\n",
      "process_num: 8, total_time: 0.07155871391296387\n",
      "process_num: 9, total_time: 0.0655050277709961\n"
     ]
    },
    {
     "ename": "NameError",
     "evalue": "name 'ThreadPoolExecutor' is not defined",
     "output_type": "error",
     "traceback": [
      "\u001b[0;31m---------------------------------------------------------------------------\u001b[0m",
      "\u001b[0;31mNameError\u001b[0m                                 Traceback (most recent call last)",
      "\u001b[0;32m<ipython-input-42-30faa6299c4f>\u001b[0m in \u001b[0;36m<module>\u001b[0;34m()\u001b[0m\n\u001b[1;32m     20\u001b[0m \u001b[0;32mfor\u001b[0m \u001b[0mnum_thread\u001b[0m \u001b[0;32min\u001b[0m \u001b[0mrange\u001b[0m\u001b[0;34m(\u001b[0m\u001b[0;36m1\u001b[0m\u001b[0;34m,\u001b[0m \u001b[0mMAX_PROCESS\u001b[0m\u001b[0;34m)\u001b[0m\u001b[0;34m:\u001b[0m\u001b[0;34m\u001b[0m\u001b[0m\n\u001b[1;32m     21\u001b[0m     \u001b[0mf\u001b[0m \u001b[0;34m=\u001b[0m \u001b[0mtime\u001b[0m\u001b[0;34m.\u001b[0m\u001b[0mtime\u001b[0m\u001b[0;34m(\u001b[0m\u001b[0;34m)\u001b[0m\u001b[0;34m\u001b[0m\u001b[0m\n\u001b[0;32m---> 22\u001b[0;31m     \u001b[0;32mwith\u001b[0m \u001b[0mThreadPoolExecutor\u001b[0m\u001b[0;34m(\u001b[0m\u001b[0mnum_thread\u001b[0m\u001b[0;34m)\u001b[0m \u001b[0;32mas\u001b[0m \u001b[0me\u001b[0m\u001b[0;34m:\u001b[0m\u001b[0;34m\u001b[0m\u001b[0m\n\u001b[0m\u001b[1;32m     23\u001b[0m             \u001b[0me\u001b[0m\u001b[0;34m.\u001b[0m\u001b[0msubmit\u001b[0m\u001b[0;34m(\u001b[0m\u001b[0mgcd\u001b[0m\u001b[0;34m,\u001b[0m \u001b[0;36m3355\u001b[0m\u001b[0;34m,\u001b[0m \u001b[0;36m2379\u001b[0m\u001b[0;34m)\u001b[0m\u001b[0;34m\u001b[0m\u001b[0m\n\u001b[1;32m     24\u001b[0m             \u001b[0mprint\u001b[0m\u001b[0;34m(\u001b[0m\u001b[0;34mf\"thread_num: {num_thread}, total_time: {time.time()-f}\"\u001b[0m\u001b[0;34m)\u001b[0m\u001b[0;34m\u001b[0m\u001b[0m\n",
      "\u001b[0;31mNameError\u001b[0m: name 'ThreadPoolExecutor' is not defined"
     ]
    }
   ],
   "source": [
    "import time, datetime\n",
    "from concurrent.futures import ProcessPoolExecutor, ThreadPoolExecutor\n",
    "#define const_number\n",
    "MAX_PROCESS  = 10\n",
    "MAX_THREAD = 10\n",
    "            \n",
    "def gcd(num1, num2):\n",
    "    while (num1 % num2 != 0):\n",
    "        rest_num = num1 % num2\n",
    "        num1 = num2\n",
    "        num2 = rest_num\n",
    "    return num2\n",
    "\n",
    "for num_process in range(1, MAX_PROCESS):\n",
    "    f = time.time()\n",
    "    with ProcessPoolExecutor(num_process) as e:\n",
    "            e.submit(gcd, 3355, 2379)\n",
    "            print(f\"process_num: {num_process}, total_time: {time.time()-f}\")\n",
    "\n",
    "for num_thread in range(1, MAX_PROCESS):\n",
    "    f = time.time()\n",
    "    with ThreadPoolExecutor(num_thread) as e:\n",
    "            e.submit(gcd, 3355, 2379)\n",
    "            print(f\"thread_num: {num_thread}, total_time: {time.time()-f}\")"
   ]
  },
  {
   "cell_type": "code",
   "execution_count": 24,
   "metadata": {},
   "outputs": [
    {
     "data": {
      "text/plain": [
       "15"
      ]
     },
     "execution_count": 24,
     "metadata": {},
     "output_type": "execute_result"
    }
   ],
   "source": [
    "50 % 35"
   ]
  }
 ],
 "metadata": {
  "kernelspec": {
   "display_name": "Python 3",
   "language": "python",
   "name": "python3"
  },
  "language_info": {
   "codemirror_mode": {
    "name": "ipython",
    "version": 3
   },
   "file_extension": ".py",
   "mimetype": "text/x-python",
   "name": "python",
   "nbconvert_exporter": "python",
   "pygments_lexer": "ipython3",
   "version": "3.6.6"
  }
 },
 "nbformat": 4,
 "nbformat_minor": 2
}

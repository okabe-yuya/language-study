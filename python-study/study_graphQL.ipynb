{
 "cells": [
  {
   "cell_type": "code",
   "execution_count": 2,
   "metadata": {},
   "outputs": [
    {
     "name": "stdout",
     "output_type": "stream",
     "text": [
      "Requirement already satisfied: graphene in /anaconda3/envs/graph/lib/python3.6/site-packages (2.1.3)\n",
      "Requirement already satisfied: six<2,>=1.10.0 in /anaconda3/envs/graph/lib/python3.6/site-packages (from graphene) (1.11.0)\n",
      "Requirement already satisfied: graphql-relay<1,>=0.4.5 in /anaconda3/envs/graph/lib/python3.6/site-packages (from graphene) (0.4.5)\n",
      "Requirement already satisfied: promise<3,>=2.1 in /anaconda3/envs/graph/lib/python3.6/site-packages (from graphene) (2.2.1)\n",
      "Requirement already satisfied: graphql-core<3,>=2.1 in /anaconda3/envs/graph/lib/python3.6/site-packages (from graphene) (2.1)\n",
      "Requirement already satisfied: aniso8601<4,>=3 in /anaconda3/envs/graph/lib/python3.6/site-packages (from graphene) (3.0.2)\n",
      "Requirement already satisfied: rx>=1.6.0 in /anaconda3/envs/graph/lib/python3.6/site-packages (from graphql-core<3,>=2.1->graphene) (1.6.1)\n"
     ]
    }
   ],
   "source": [
    "!pip install graphene"
   ]
  },
  {
   "cell_type": "code",
   "execution_count": 3,
   "metadata": {},
   "outputs": [
    {
     "name": "stdout",
     "output_type": "stream",
     "text": [
      "Hello World\n"
     ]
    }
   ],
   "source": [
    "## sample code from official page\n",
    "import graphene\n",
    "\n",
    "#make query and data\n",
    "class Query(graphene.ObjectType):\n",
    "  hello = graphene.String(name=graphene.String(default_value=\"World\"))\n",
    "    \n",
    "#return data, if call this func\n",
    "  def resolve_hello(self, info, name):\n",
    "    return 'Hello ' + name\n",
    "\n",
    "#set schema\n",
    "schema = graphene.Schema(query=Query)\n",
    "\n",
    "#execute your schema\n",
    "result = schema.execute('{ hello }')\n",
    "print(result.data['hello']) # \"Hello World\""
   ]
  },
  {
   "cell_type": "code",
   "execution_count": 20,
   "metadata": {},
   "outputs": [
    {
     "ename": "NameError",
     "evalue": "name 'self' is not defined",
     "output_type": "error",
     "traceback": [
      "\u001b[0;31m---------------------------------------------------------------------------\u001b[0m",
      "\u001b[0;31mNameError\u001b[0m                                 Traceback (most recent call last)",
      "\u001b[0;32m<ipython-input-20-2872dee12320>\u001b[0m in \u001b[0;36m<module>\u001b[0;34m()\u001b[0m\n\u001b[1;32m      1\u001b[0m \u001b[0;32mimport\u001b[0m \u001b[0mgraphene\u001b[0m\u001b[0;34m\u001b[0m\u001b[0m\n\u001b[1;32m      2\u001b[0m \u001b[0;34m\u001b[0m\u001b[0m\n\u001b[0;32m----> 3\u001b[0;31m \u001b[0;32mclass\u001b[0m \u001b[0mQuery\u001b[0m\u001b[0;34m(\u001b[0m\u001b[0mgraphene\u001b[0m\u001b[0;34m.\u001b[0m\u001b[0mObjectType\u001b[0m\u001b[0;34m)\u001b[0m\u001b[0;34m:\u001b[0m\u001b[0;34m\u001b[0m\u001b[0m\n\u001b[0m\u001b[1;32m      4\u001b[0m     \u001b[0mhello\u001b[0m \u001b[0;34m=\u001b[0m \u001b[0mgraphene\u001b[0m\u001b[0;34m.\u001b[0m\u001b[0mString\u001b[0m\u001b[0;34m(\u001b[0m\u001b[0mname\u001b[0m\u001b[0;34m=\u001b[0m\u001b[0mgraphene\u001b[0m\u001b[0;34m.\u001b[0m\u001b[0mString\u001b[0m\u001b[0;34m(\u001b[0m\u001b[0mdefault_value\u001b[0m\u001b[0;34m=\u001b[0m\u001b[0;34m\"test\"\u001b[0m\u001b[0;34m)\u001b[0m\u001b[0;34m)\u001b[0m\u001b[0;34m\u001b[0m\u001b[0m\n\u001b[1;32m      5\u001b[0m     \u001b[0mgood\u001b[0m \u001b[0;34m=\u001b[0m \u001b[0mgraphene\u001b[0m\u001b[0;34m.\u001b[0m\u001b[0mString\u001b[0m\u001b[0;34m(\u001b[0m\u001b[0mgood\u001b[0m\u001b[0;34m=\u001b[0m\u001b[0mgraphene\u001b[0m\u001b[0;34m.\u001b[0m\u001b[0mString\u001b[0m\u001b[0;34m(\u001b[0m\u001b[0mdefault_value\u001b[0m\u001b[0;34m=\u001b[0m\u001b[0;34m\"nice\"\u001b[0m\u001b[0;34m)\u001b[0m\u001b[0;34m)\u001b[0m\u001b[0;34m\u001b[0m\u001b[0m\n",
      "\u001b[0;32m<ipython-input-20-2872dee12320>\u001b[0m in \u001b[0;36mQuery\u001b[0;34m()\u001b[0m\n\u001b[1;32m      4\u001b[0m     \u001b[0mhello\u001b[0m \u001b[0;34m=\u001b[0m \u001b[0mgraphene\u001b[0m\u001b[0;34m.\u001b[0m\u001b[0mString\u001b[0m\u001b[0;34m(\u001b[0m\u001b[0mname\u001b[0m\u001b[0;34m=\u001b[0m\u001b[0mgraphene\u001b[0m\u001b[0;34m.\u001b[0m\u001b[0mString\u001b[0m\u001b[0;34m(\u001b[0m\u001b[0mdefault_value\u001b[0m\u001b[0;34m=\u001b[0m\u001b[0;34m\"test\"\u001b[0m\u001b[0;34m)\u001b[0m\u001b[0;34m)\u001b[0m\u001b[0;34m\u001b[0m\u001b[0m\n\u001b[1;32m      5\u001b[0m     \u001b[0mgood\u001b[0m \u001b[0;34m=\u001b[0m \u001b[0mgraphene\u001b[0m\u001b[0;34m.\u001b[0m\u001b[0mString\u001b[0m\u001b[0;34m(\u001b[0m\u001b[0mgood\u001b[0m\u001b[0;34m=\u001b[0m\u001b[0mgraphene\u001b[0m\u001b[0;34m.\u001b[0m\u001b[0mString\u001b[0m\u001b[0;34m(\u001b[0m\u001b[0mdefault_value\u001b[0m\u001b[0;34m=\u001b[0m\u001b[0;34m\"nice\"\u001b[0m\u001b[0;34m)\u001b[0m\u001b[0;34m)\u001b[0m\u001b[0;34m\u001b[0m\u001b[0m\n\u001b[0;32m----> 6\u001b[0;31m     \u001b[0mself\u001b[0m\u001b[0;34m.\u001b[0m\u001b[0mhello\u001b[0m \u001b[0;34m=\u001b[0m \u001b[0mhello\u001b[0m\u001b[0;34m\u001b[0m\u001b[0m\n\u001b[0m\u001b[1;32m      7\u001b[0m \u001b[0;34m\u001b[0m\u001b[0m\n\u001b[1;32m      8\u001b[0m     \u001b[0;32mdef\u001b[0m \u001b[0mresolve_hello\u001b[0m\u001b[0;34m(\u001b[0m\u001b[0mself\u001b[0m\u001b[0;34m,\u001b[0m \u001b[0minfo\u001b[0m\u001b[0;34m,\u001b[0m \u001b[0mname\u001b[0m\u001b[0;34m)\u001b[0m\u001b[0;34m:\u001b[0m\u001b[0;34m\u001b[0m\u001b[0m\n",
      "\u001b[0;31mNameError\u001b[0m: name 'self' is not defined"
     ]
    }
   ],
   "source": [
    "import graphene\n",
    "\n",
    "class Query(graphene.ObjectType):\n",
    "    hello = graphene.String(name=graphene.String(default_value=\"test\"))\n",
    "    good = graphene.String(good=graphene.String(default_value=\"nice\"))\n",
    "    \n",
    "    def resolve_hello(self, info, name):\n",
    "        name = \"810paisen\"\n",
    "        return name\n",
    "    \n",
    "    def resolve_good(self, info, good):\n",
    "        return self.hello\n",
    "        return good\n",
    "\n",
    "#dbが定義されてってイメージで\n",
    "schema = graphene.Schema(query=Query)\n",
    "#クエリを実行\n",
    "result = schema.execute('{hello}')\n",
    "print(result.data[\"hello\"])\n",
    "\n",
    "result_g = schema.execute('{good}')\n",
    "print(result_g.data[\"good\"])\n",
    "\n",
    "## 定義とデータの呼び出し方\n",
    "\"\"\"\n",
    "1. Queryのobjectを作成する\n",
    "2. Queryに対して任意のデータを入れておく\n",
    "3. 同名のargumentを持つクラス内関数を定義する\n",
    "4. 外部からQueryを引数に渡したschemaを定義\n",
    "5. クエリを実行する(execute)\n",
    "\"\"\""
   ]
  }
 ],
 "metadata": {
  "kernelspec": {
   "display_name": "Python 3",
   "language": "python",
   "name": "python3"
  },
  "language_info": {
   "codemirror_mode": {
    "name": "ipython",
    "version": 3
   },
   "file_extension": ".py",
   "mimetype": "text/x-python",
   "name": "python",
   "nbconvert_exporter": "python",
   "pygments_lexer": "ipython3",
   "version": "3.6.6"
  }
 },
 "nbformat": 4,
 "nbformat_minor": 2
}

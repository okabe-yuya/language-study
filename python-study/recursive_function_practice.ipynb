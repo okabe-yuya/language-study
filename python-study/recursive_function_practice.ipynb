{
 "cells": [
  {
   "cell_type": "code",
   "execution_count": 182,
   "metadata": {},
   "outputs": [
    {
     "name": "stdout",
     "output_type": "stream",
     "text": [
      "数値合計 ====================\n",
      "再帰関数: 0.000004s\n",
      "ふつうのやつ: 0.000002s\n",
      "\n",
      "数値結合 ====================\n",
      "再帰関数: 0.000039s\n",
      "ふつうのやつ: 0.000026s\n",
      "\n",
      "map関数 ====================\n",
      "再帰関数: 0.000012s\n",
      "ふつうのやつ: 0.000135s\n"
     ]
    }
   ],
   "source": [
    "import copy\n",
    "import time\n",
    "\n",
    "num_ary = [1,2,3,4,5,6,7,8,9,10]\n",
    "\n",
    "def counter(func, ary, in_map_func=None):\n",
    "    start = time.time()\n",
    "    if in_map_func != None:\n",
    "        func(ary, in_map_func)\n",
    "    else:\n",
    "        func(ary)\n",
    "    total = time.time() - start\n",
    "    return total\n",
    "\n",
    "#配列の数値合計\n",
    "print(\"数値合計\", \"=\"*20)\n",
    "print(\"再帰関数: {:.6f}s\".format(counter(re_sum, num_ary)))\n",
    "print(\"ふつうのやつ: {:.6f}s\".format(counter(for_sum, num_ary)))\n",
    "print()\n",
    "\n",
    "#配列の数値結合\n",
    "print(\"数値結合\", \"=\"*20)\n",
    "print(\"再帰関数: {:.6f}s\".format(counter(re_format, num_ary)))\n",
    "print(\"ふつうのやつ: {:.6f}s\".format(counter(for_format, num_ary)))\n",
    "print()\n",
    "\n",
    "#map関数\n",
    "print(\"map関数\", \"=\"*20)\n",
    "print(\"再帰関数: {:.6f}s\".format(counter(re_map, copy.deepcopy(num_ary), lambda x: x+1)))\n",
    "\n",
    "start = time.time()\n",
    "map(lambda x: x+1, num_ary)\n",
    "print(\"ふつうのやつ: {:.6f}s\".format(time.time()-start))"
   ]
  },
  {
   "cell_type": "code",
   "execution_count": 173,
   "metadata": {},
   "outputs": [],
   "source": [
    "##　再帰関数\n",
    "def re_sum(num_ary):\n",
    "    if len(num_ary)==0:\n",
    "        return 0\n",
    "    else:\n",
    "        return num_ary[len(num_ary) -1] + sum(num_ary[:-1])\n",
    "        return num_ary[0] + sum(num_ary.pop(0))\n",
    "\n",
    "## 普通に\n",
    "def for_sum(num_ary):\n",
    "    count = 0\n",
    "    for num in num_ary:\n",
    "        count += num\n",
    "    return count"
   ]
  },
  {
   "cell_type": "code",
   "execution_count": 124,
   "metadata": {},
   "outputs": [
    {
     "name": "stdout",
     "output_type": "stream",
     "text": [
      "12345678910\n",
      "12345678910\n"
     ]
    }
   ],
   "source": [
    "def re_format(num_ary):\n",
    "    if len(num_ary)==0:\n",
    "        return ''\n",
    "    else:\n",
    "        tar_num = num_ary[0]\n",
    "        num_ary.remove(tar_num)\n",
    "        return str(tar_num) + re_format(num_ary)\n",
    "\n",
    "    \n",
    "def for_format(num_ary):\n",
    "    format_str = \"\"\n",
    "    for num in num_ary:\n",
    "        format_str += str(num)\n",
    "    return format_str"
   ]
  },
  {
   "cell_type": "code",
   "execution_count": 53,
   "metadata": {},
   "outputs": [
    {
     "name": "stdout",
     "output_type": "stream",
     "text": [
      "None\n"
     ]
    }
   ],
   "source": [
    "const = [1,2,3,1]\n",
    "aaa = const.remove(1)"
   ]
  },
  {
   "cell_type": "code",
   "execution_count": 151,
   "metadata": {},
   "outputs": [
    {
     "name": "stdout",
     "output_type": "stream",
     "text": [
      "[2, 3, 4]\n",
      "[2, 3]\n"
     ]
    }
   ],
   "source": [
    "import copy\n",
    "\n",
    "def re_map(array, func):\n",
    "    if len(array)==0:\n",
    "        return []\n",
    "    else:\n",
    "        t_num = array[0]\n",
    "        array.remove(t_num)\n",
    "        return [func(t_num)] + re_map(array, func)\n",
    "\n",
    "    \n",
    "def re_filter(array, func):\n",
    "    if len(array)==0:\n",
    "        return []\n",
    "    else:\n",
    "        t_num = array[0]\n",
    "        array.remove(t_num)\n",
    "        if func(t_num):\n",
    "            return [t_num] + re_filter(array, func)\n",
    "        else:\n",
    "            return re_filter(array, func)\n",
    "\n",
    "array = [1,2,3]\n",
    "## shallow　copyの場合、removeは破壊的メゾットのため元の配列が消失するのでdeep copyをした配列を代入\n",
    "print(re_map(copy.deepcopy(array), lambda x: x+1))\n",
    "print(re_filter(copy.deepcopy(array), lambda x: x >1))"
   ]
  },
  {
   "cell_type": "code",
   "execution_count": 115,
   "metadata": {},
   "outputs": [
    {
     "name": "stdout",
     "output_type": "stream",
     "text": [
      "[1, 3, 4, 5]\n",
      "[3, 4, 5]\n"
     ]
    }
   ],
   "source": [
    "test = [1,3,4,5]\n",
    "a = copy.deepcopy(test)\n",
    "a.remove(1)\n",
    "print(test)\n",
    "print(a)"
   ]
  }
 ],
 "metadata": {
  "kernelspec": {
   "display_name": "Python 3",
   "language": "python",
   "name": "python3"
  },
  "language_info": {
   "codemirror_mode": {
    "name": "ipython",
    "version": 3
   },
   "file_extension": ".py",
   "mimetype": "text/x-python",
   "name": "python",
   "nbconvert_exporter": "python",
   "pygments_lexer": "ipython3",
   "version": "3.6.6"
  }
 },
 "nbformat": 4,
 "nbformat_minor": 2
}
